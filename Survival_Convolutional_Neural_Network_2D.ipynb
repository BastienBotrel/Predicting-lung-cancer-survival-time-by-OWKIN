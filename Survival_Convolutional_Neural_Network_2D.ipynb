{
  "nbformat": 4,
  "nbformat_minor": 0,
  "metadata": {
    "colab": {
      "name": "Survival_Convolutional_Neural_Network_2D.ipynb",
      "provenance": [],
      "collapsed_sections": [],
      "toc_visible": true
    },
    "kernelspec": {
      "name": "python3",
      "display_name": "Python 3"
    }
  },
  "cells": [
    {
      "cell_type": "markdown",
      "metadata": {
        "id": "fl4v0oJmcRHg"
      },
      "source": [
        "# **Survival Convolutional Neural Network** (from 2D CT scans)"
      ]
    },
    {
      "cell_type": "code",
      "metadata": {
        "id": "-XyEndHUcaan"
      },
      "source": [
        "import tensorflow as tf \r\n",
        "import pandas as pd\r\n",
        "import numpy as np \r\n",
        "import matplotlib.pyplot as plt \r\n",
        "from typing import Dict, Iterable, Sequence, Tuple, Optional\r\n",
        "import pathlib\r\n",
        "from pathlib import Path\r\n",
        "pip install lifelines\r\n",
        "from lifelines.utils import concordance_index"
      ],
      "execution_count": null,
      "outputs": []
    },
    {
      "cell_type": "markdown",
      "metadata": {
        "id": "hrpXjGKp5L5U"
      },
      "source": [
        "## **Loading Data and Preprocessing**"
      ]
    },
    {
      "cell_type": "markdown",
      "metadata": {
        "id": "v9o3Na4qc0O0"
      },
      "source": [
        "### **Loading of CT scans**"
      ]
    },
    {
      "cell_type": "code",
      "metadata": {
        "id": "B2WpAiLLENpn"
      },
      "source": [
        "train_folder = pathlib.Path(\"/content/drive/My Drive/x_train/images\")\n",
        "all_image_paths = [str(img_path) for img_path in list(train_folder.glob(\"*\"))]\n",
        "all_image_paths = sorted(all_image_paths)"
      ],
      "execution_count": null,
      "outputs": []
    },
    {
      "cell_type": "markdown",
      "metadata": {
        "id": "mvhkoLSudBf4"
      },
      "source": [
        "CT scans store raw voxel intensity in Hounsfield units (HU). This is defined as Air = −1000 HU, Lung ≈ −500 HU, Water = 0 HU, Soft tissue (& blood) ≈ +50 HU, Bone ≈ +1000 HU. A lung window from -1200 to +800 can be applied to view lung tumor and normalize CT scans.\r\n",
        "\r\n",
        "For each CT scan, there is a segmentation mask of the same size, composed of zeros everywhere there is no tumour, and 1 otherwise.\r\n",
        "\r\n",
        "My objective being to increase the size of the training data by cutting each 3D CT scan at the center of the tumor on each axis, I used this mask to identify the position of the tumor on the CT scan."
      ]
    },
    {
      "cell_type": "code",
      "metadata": {
        "id": "xOjRjq8-EUVl"
      },
      "source": [
        "def read_file(filepath):\n",
        "    # Read file\n",
        "    scan = np.load(filepath)\n",
        "    # Get raw data\n",
        "    scan = scan['scan']\n",
        "    return scan\n",
        "\n",
        "def normalize(volume):\n",
        "    min = -1200\n",
        "    max = 400\n",
        "    volume[volume < min] = min\n",
        "    volume[volume > max] = max\n",
        "    volume = (volume - min) / (max - min)\n",
        "    volume = volume.astype(\"float32\")\n",
        "    return volume\n",
        "\n",
        "def process_scan(path):\n",
        "    # Read scan\n",
        "    volume = read_file(path)\n",
        "    # Normalize and use of the segmentation mask \n",
        "    scan = np.load(path)\n",
        "    volume = normalize(volume)*scan['mask']\n",
        "    return volume"
      ],
      "execution_count": null,
      "outputs": []
    },
    {
      "cell_type": "code",
      "metadata": {
        "id": "ZO-8MDbNEcgh"
      },
      "source": [
        "# Each scan is rescaled.\r\n",
        "normal_scans = np.array([process_scan(path) for path in all_image_paths])\r\n",
        "normal_scans.shape"
      ],
      "execution_count": null,
      "outputs": []
    },
    {
      "cell_type": "markdown",
      "metadata": {
        "id": "oF7Vkf5og2Q5"
      },
      "source": [
        "### **Creation of 2D CT scans**"
      ]
    },
    {
      "cell_type": "markdown",
      "metadata": {
        "id": "xD_BIJOrdl4Z"
      },
      "source": [
        "I noticed that 6 of the 300 training CT scans don't have any delimited tumor (the segmentation mask is composed of zeros only). These CT scans are not used in the creations of the 2D CT scans."
      ]
    },
    {
      "cell_type": "code",
      "metadata": {
        "id": "QZlEH0YnZogl"
      },
      "source": [
        "def two_d(scan):\n",
        "  liste=[]\n",
        "  for i in range(0,300):\n",
        "    # Removal of the CT scans without delimited tumor\n",
        "    if i !=1 and i!=177 and i!=183 and i!=229 and i!=277 and i!=290:\n",
        "      a=np.where(scan[i]>0)\n",
        "      median_ax0=int(np.median(a[0]))\n",
        "      median_ax1=int(np.median(a[1]))\n",
        "      median_ax2=int(np.median(a[2]))\n",
        "      image_1=scan[i][median_ax0,:,:]\n",
        "      image_2=scan[i][:,median_ax1,:]\n",
        "      image_3=scan[i][:,:,median_ax2]\n",
        "      liste.append(image_1)\n",
        "      liste.append(image_2)\n",
        "      liste.append(image_3)\n",
        "      scans=(np.array(liste))\n",
        "  return scans"
      ],
      "execution_count": null,
      "outputs": []
    },
    {
      "cell_type": "code",
      "metadata": {
        "id": "jKbH6nY_eVhL"
      },
      "source": [
        "scan_2d=two_d(normal_scans)\n",
        "scan_2d.shape"
      ],
      "execution_count": null,
      "outputs": []
    },
    {
      "cell_type": "markdown",
      "metadata": {
        "id": "ErNhefyi49RK"
      },
      "source": [
        "### **Vizualization of a 2D CT scan**"
      ]
    },
    {
      "cell_type": "code",
      "metadata": {
        "colab": {
          "base_uri": "https://localhost:8080/",
          "height": 286
        },
        "id": "NNMCdmoMFQzt",
        "outputId": "04e92fb6-55a8-4271-b294-fc47ba056ddf"
      },
      "source": [
        "plt.imshow(scan_2d[0])\n",
        "plt.colorbar()\n",
        "plt.plot()"
      ],
      "execution_count": null,
      "outputs": [
        {
          "output_type": "execute_result",
          "data": {
            "text/plain": [
              "[]"
            ]
          },
          "metadata": {
            "tags": []
          },
          "execution_count": 8
        },
        {
          "output_type": "display_data",
          "data": {
            "image/png": "[encoded data removed]",
            "text/plain": [
              "<Figure size 432x288 with 2 Axes>"
            ]
          },
          "metadata": {
            "tags": [],
            "needs_background": "light"
          }
        }
      ]
    },
    {
      "cell_type": "markdown",
      "metadata": {
        "id": "YPyKbBzy9LeR"
      },
      "source": [
        "We can see that where no tumor has been identified, the value is equal to zero."
      ]
    },
    {
      "cell_type": "markdown",
      "metadata": {
        "id": "xxfVstZ15F0f"
      },
      "source": [
        "### **Target and Censorship Variables**"
      ]
    },
    {
      "cell_type": "code",
      "metadata": {
        "id": "qPj2jDXh3KQr"
      },
      "source": [
        "y_train = pd.read_csv( '/content/drive/My Drive/Owkin project/y_train.csv', index_col=0)\n",
        "y_train=y_train.sort_index()\n",
        "\n",
        "# Removal of the 6 patients who do not have a delimited tumor on the CT scan\n",
        "y_train=y_train.drop(index=[3,256,263,327,391,409])\n",
        "\n",
        "# Survival time and event are duplicated, patients having three 2D CT scans\n",
        "survivaltime=[x for x in (y_train.SurvivalTime)]\n",
        "event=[x for x in (y_train.Event)]\n",
        "\n",
        "survivaltime=pd.Series(survivaltime)\n",
        "survivaltime=survivaltime.repeat(3)\n",
        "event=pd.Series(event)\n",
        "event=event.repeat(3)"
      ],
      "execution_count": null,
      "outputs": []
    },
    {
      "cell_type": "markdown",
      "metadata": {
        "id": "nNIJMZdi_4V_"
      },
      "source": [
        "### **Splitting Train Data in Training and Validation**"
      ]
    },
    {
      "cell_type": "code",
      "metadata": {
        "id": "peKBv6jH3PyN"
      },
      "source": [
        "# Split data in the ratio 70-30 for training and validation.\n",
        "x_train = scan_2d[:780]\n",
        "time_train = np.array(survivaltime[:780])\n",
        "event_train = np.array(event[:780])\n",
        "\n",
        "x_test = scan_2d[780:]\n",
        "time_test = np.array(survivaltime[780:])\n",
        "event_test = np.array(event[780:])"
      ],
      "execution_count": null,
      "outputs": []
    },
    {
      "cell_type": "markdown",
      "metadata": {
        "id": "0NeVb36KAYwR"
      },
      "source": [
        "## **Creation of Convolution Neural Network for Survival Analysis**"
      ]
    },
    {
      "cell_type": "markdown",
      "metadata": {
        "id": "-yeMMNP5AoS8"
      },
      "source": [
        "### **Train and Validation Data**"
      ]
    },
    {
      "cell_type": "code",
      "metadata": {
        "id": "jjIX-Qtg4ekZ"
      },
      "source": [
        "def _make_riskset(time: np.ndarray) -> np.ndarray:\n",
        "    \"\"\"Compute mask that represents each sample's risk set.\n",
        "\n",
        "    Parameters\n",
        "    ----------\n",
        "    time : np.ndarray, shape=(n_samples,)\n",
        "        Observed event time sorted in descending order.\n",
        "\n",
        "    Returns\n",
        "    -------\n",
        "    risk_set : np.ndarray, shape=(n_samples, n_samples)\n",
        "        Boolean matrix where the `i`-th row denotes the\n",
        "        risk set of the `i`-th instance, i.e. the indices `j`\n",
        "        for which the observer time `y_j >= y_i`.\n",
        "    \"\"\"\n",
        "    assert time.ndim == 1, \"expected 1D array\"\n",
        "\n",
        "    # sort in descending order\n",
        "    o = np.argsort(-time, kind=\"mergesort\")\n",
        "    n_samples = len(time)\n",
        "    risk_set = np.zeros((n_samples, n_samples), dtype=np.bool_)\n",
        "    for i_org, i_sort in enumerate(o):\n",
        "        ti = time[i_sort]\n",
        "        k = i_org\n",
        "        while k < n_samples and ti == time[o[k]]:\n",
        "            k += 1\n",
        "        risk_set[i_sort, o[:k]] = True\n",
        "    return risk_set\n",
        "\n",
        "\n",
        "class InputFunction:\n",
        "    \"\"\"Callable input function that computes the risk set for each batch.\n",
        "    \n",
        "    Parameters\n",
        "    ----------\n",
        "    images : np.ndarray, shape=(n_samples, height, width)\n",
        "        Image data.\n",
        "    time : np.ndarray, shape=(n_samples,)\n",
        "        Observed time.\n",
        "    event : np.ndarray, shape=(n_samples,)\n",
        "        Event indicator.\n",
        "    batch_size : int, optional, default=64\n",
        "        Number of samples per batch.\n",
        "    drop_last : int, optional, default=False\n",
        "        Whether to drop the last incomplete batch.\n",
        "    shuffle : bool, optional, default=False\n",
        "        Whether to shuffle data.\n",
        "    seed : int, optional, default=89\n",
        "        Random number seed.\n",
        "    \"\"\"\n",
        "\n",
        "    def __init__(self,\n",
        "                 images: np.ndarray,\n",
        "                 time: np.ndarray,\n",
        "                 event: np.ndarray,\n",
        "                 batch_size: int = 20,\n",
        "                 drop_last: bool = False,\n",
        "                 shuffle: bool = False,\n",
        "                 seed: int = 89) -> None:\n",
        "        if images.ndim == 3:\n",
        "            images = images[..., np.newaxis]\n",
        "        self.images = images\n",
        "        self.time = time\n",
        "        self.event = event\n",
        "        self.batch_size = batch_size\n",
        "        self.drop_last = drop_last\n",
        "        self.shuffle = shuffle\n",
        "        self.seed = seed\n",
        "\n",
        "    def size(self) -> int:\n",
        "        \"\"\"Total number of samples.\"\"\"\n",
        "        return self.images.shape[0]\n",
        "\n",
        "    def steps_per_epoch(self) -> int:\n",
        "        \"\"\"Number of batches for one epoch.\"\"\"\n",
        "        return int(np.floor(self.size() / self.batch_size))\n",
        "\n",
        "    def _get_data_batch(self, index: np.ndarray) -> Tuple[np.ndarray, Dict[str, np.ndarray]]:\n",
        "        \"\"\"Compute risk set for samples in batch.\"\"\"\n",
        "        time = self.time[index]\n",
        "        event = self.event[index]\n",
        "        images = self.images[index]\n",
        "\n",
        "        labels = {\n",
        "            \"label_event\": event.astype(np.int32),\n",
        "            \"label_time\": time.astype(np.float32),\n",
        "            \"label_riskset\": _make_riskset(time)\n",
        "        }\n",
        "        return images, labels\n",
        "\n",
        "    def _iter_data(self) -> Iterable[Tuple[np.ndarray, Dict[str, np.ndarray]]]:\n",
        "        \"\"\"Generator that yields one batch at a time.\"\"\"\n",
        "        index = np.arange(self.size())\n",
        "        rnd = np.random.RandomState(self.seed)\n",
        "\n",
        "        if self.shuffle:\n",
        "            rnd.shuffle(index)\n",
        "        for b in range(self.steps_per_epoch()):\n",
        "            start = b * self.batch_size\n",
        "            idx = index[start:(start + self.batch_size)]\n",
        "            yield self._get_data_batch(idx)\n",
        "\n",
        "        if not self.drop_last:\n",
        "            start = self.steps_per_epoch() * self.batch_size\n",
        "            idx = index[start:]\n",
        "            yield self._get_data_batch(idx)\n",
        "\n",
        "    def _get_shapes(self) -> Tuple[tf.TensorShape, Dict[str, tf.TensorShape]]:\n",
        "        \"\"\"Return shapes of data returned by `self._iter_data`.\"\"\"\n",
        "        batch_size = self.batch_size if self.drop_last else None\n",
        "        h, w, c = self.images.shape[1:]\n",
        "        images = tf.TensorShape([batch_size, h, w, c])\n",
        "\n",
        "        labels = {k: tf.TensorShape((batch_size,))\n",
        "                  for k in (\"label_event\", \"label_time\")}\n",
        "        labels[\"label_riskset\"] = tf.TensorShape((batch_size, batch_size))\n",
        "        return images, labels\n",
        "\n",
        "    def _get_dtypes(self) -> Tuple[tf.DType, Dict[str, tf.DType]]:\n",
        "        \"\"\"Return dtypes of data returned by `self._iter_data`.\"\"\"\n",
        "        labels = {\"label_event\": tf.int32,\n",
        "                  \"label_time\": tf.float32,\n",
        "                  \"label_riskset\": tf.bool}\n",
        "        return tf.float32, labels\n",
        "\n",
        "    def _make_dataset(self) -> tf.data.Dataset:\n",
        "        \"\"\"Create dataset from generator.\"\"\"\n",
        "        ds = tf.data.Dataset.from_generator(\n",
        "            self._iter_data,\n",
        "            self._get_dtypes(),\n",
        "            self._get_shapes()\n",
        "        )\n",
        "        return ds\n",
        "\n",
        "    def __call__(self) -> tf.data.Dataset:\n",
        "        return self._make_dataset()\n",
        "\n",
        "\n",
        "def safe_normalize(x: tf.Tensor) -> tf.Tensor:\n",
        "    \"\"\"Normalize risk scores to avoid exp underflowing.\n",
        "\n",
        "    Note that only risk scores relative to each other matter.\n",
        "    If minimum risk score is negative, we shift scores so minimum\n",
        "    is at zero.\n",
        "    \"\"\"\n",
        "    x_min = tf.reduce_min(x, axis=0)\n",
        "    c = tf.zeros_like(x_min)\n",
        "    norm = tf.where(x_min < 0, -x_min, c)\n",
        "    return x + norm\n",
        "\n",
        "\n",
        "def logsumexp_masked(risk_scores: tf.Tensor,\n",
        "                     mask: tf.Tensor,\n",
        "                     axis: int = 0,\n",
        "                     keepdims: Optional[bool] = None) -> tf.Tensor:\n",
        "    \"\"\"Compute logsumexp across `axis` for entries where `mask` is true.\"\"\"\n",
        "    risk_scores.shape.assert_same_rank(mask.shape)\n",
        "\n",
        "    with tf.name_scope(\"logsumexp_masked\"):\n",
        "        mask_f = tf.cast(mask, risk_scores.dtype)\n",
        "        risk_scores_masked = tf.math.multiply(risk_scores, mask_f)\n",
        "        # for numerical stability, substract the maximum value\n",
        "        # before taking the exponential\n",
        "        amax = tf.reduce_max(risk_scores_masked, axis=axis, keepdims=True)\n",
        "        risk_scores_shift = risk_scores_masked - amax\n",
        "\n",
        "        exp_masked = tf.math.multiply(tf.exp(risk_scores_shift), mask_f)\n",
        "        exp_sum = tf.reduce_sum(exp_masked, axis=axis, keepdims=True)\n",
        "        output = amax + tf.math.log(exp_sum)\n",
        "        if not keepdims:\n",
        "            output = tf.squeeze(output, axis=axis)\n",
        "    return output"
      ],
      "execution_count": null,
      "outputs": []
    },
    {
      "cell_type": "markdown",
      "metadata": {
        "id": "lBLMQrE5AzZx"
      },
      "source": [
        "### **Computation of Cox PH loss function**"
      ]
    },
    {
      "cell_type": "code",
      "metadata": {
        "id": "g65el7R3BDIi"
      },
      "source": [
        "class CoxPHLoss(tf.keras.losses.Loss):\r\n",
        "    \"\"\"Negative partial log-likelihood of Cox's proportional hazards model.\"\"\"\r\n",
        "\r\n",
        "    def __init__(self, **kwargs):\r\n",
        "        super().__init__(**kwargs)            \r\n",
        "\r\n",
        "    def call(self,\r\n",
        "             y_true: Sequence[tf.Tensor],\r\n",
        "             y_pred: tf.Tensor) -> tf.Tensor:\r\n",
        "        \"\"\"Compute loss.\r\n",
        "\r\n",
        "        Parameters\r\n",
        "        ----------\r\n",
        "        y_true : list|tuple of tf.Tensor\r\n",
        "            The first element holds a binary vector where 1\r\n",
        "            indicates an event 0 censoring.\r\n",
        "            The second element holds the riskset, a\r\n",
        "            boolean matrix where the `i`-th row denotes the\r\n",
        "            risk set of the `i`-th instance, i.e. the indices `j`\r\n",
        "            for which the observer time `y_j >= y_i`.\r\n",
        "            Both must be rank 2 tensors.\r\n",
        "        y_pred : tf.Tensor\r\n",
        "            The predicted outputs. Must be a rank 2 tensor.\r\n",
        "\r\n",
        "        Returns\r\n",
        "        -------\r\n",
        "        loss : tf.Tensor\r\n",
        "            Loss for each instance in the batch.\r\n",
        "        \"\"\"\r\n",
        "        event, riskset = y_true\r\n",
        "        predictions = y_pred\r\n",
        "\r\n",
        "        pred_shape = predictions.shape\r\n",
        "        if pred_shape.ndims != 2:\r\n",
        "            raise ValueError(\"Rank mismatch: Rank of predictions (received %s) should \"\r\n",
        "                             \"be 2.\" % pred_shape.ndims)\r\n",
        "\r\n",
        "        if pred_shape[1] is None:\r\n",
        "            raise ValueError(\"Last dimension of predictions must be known.\")\r\n",
        "\r\n",
        "        if pred_shape[1] != 1:\r\n",
        "            raise ValueError(\"Dimension mismatch: Last dimension of predictions \"\r\n",
        "                             \"(received %s) must be 1.\" % pred_shape[1])\r\n",
        "\r\n",
        "        if event.shape.ndims != pred_shape.ndims:\r\n",
        "            raise ValueError(\"Rank mismatch: Rank of predictions (received %s) should \"\r\n",
        "                             \"equal rank of event (received %s)\" % (\r\n",
        "                pred_shape.ndims, event.shape.ndims))\r\n",
        "\r\n",
        "        if riskset.shape.ndims != 2:\r\n",
        "            raise ValueError(\"Rank mismatch: Rank of riskset (received %s) should \"\r\n",
        "                             \"be 2.\" % riskset.shape.ndims)\r\n",
        "\r\n",
        "        event = tf.cast(event, predictions.dtype)\r\n",
        "        predictions = safe_normalize(predictions)\r\n",
        "\r\n",
        "        with tf.name_scope(\"assertions\"):\r\n",
        "            assertions = (\r\n",
        "                tf.debugging.assert_less_equal(event, 1.),\r\n",
        "                tf.debugging.assert_greater_equal(event, 0.),\r\n",
        "                tf.debugging.assert_type(riskset, tf.bool)\r\n",
        "            )\r\n",
        "\r\n",
        "        # move batch dimension to the end so predictions get broadcast\r\n",
        "        # row-wise when multiplying by riskset\r\n",
        "        pred_t = tf.transpose(predictions)\r\n",
        "        # compute log of sum over risk set for each row\r\n",
        "        rr = logsumexp_masked(pred_t, riskset, axis=1, keepdims=True)\r\n",
        "        assert rr.shape.as_list() == predictions.shape.as_list()\r\n",
        "\r\n",
        "        losses = tf.math.multiply(event, rr - predictions)\r\n",
        "\r\n",
        "        return losses"
      ],
      "execution_count": null,
      "outputs": []
    },
    {
      "cell_type": "markdown",
      "metadata": {
        "id": "gDbxG5hHBo0D"
      },
      "source": [
        "### **Computation of the Concordance Index** (on the validation data at each epoch)"
      ]
    },
    {
      "cell_type": "code",
      "metadata": {
        "id": "IRpSGwiV4hDC"
      },
      "source": [
        "class CindexMetric:\n",
        "    \"\"\"Computes concordance index across one epoch.\"\"\"\n",
        "\n",
        "    def reset_states(self) -> None:\n",
        "        \"\"\"Clear the buffer of collected values.\"\"\"\n",
        "        self._data = {\n",
        "            \"label_time\": [],\n",
        "            \"label_event\": [],\n",
        "            \"prediction\": []\n",
        "        }\n",
        "\n",
        "    def update_state(self, y_true: Dict[str, tf.Tensor], y_pred: tf.Tensor) -> None:\n",
        "        \"\"\"Collect observed time, event indicator and predictions for a batch.\n",
        "\n",
        "        Parameters\n",
        "        ----------\n",
        "        y_true : dict\n",
        "            Must have two items:\n",
        "            `label_time`, a tensor containing observed time for one batch,\n",
        "            and `label_event`, a tensor containing event indicator for one batch.\n",
        "        y_pred : tf.Tensor\n",
        "            Tensor containing predicted risk score for one batch.\n",
        "        \"\"\"\n",
        "        self._data[\"label_time\"].append(y_true[\"label_time\"].numpy())\n",
        "        self._data[\"label_event\"].append(y_true[\"label_event\"].numpy())\n",
        "        self._data[\"prediction\"].append(tf.squeeze(y_pred).numpy())\n",
        "\n",
        "    def result(self) -> Dict[str, float]:\n",
        "        \"\"\"Computes the concordance index across collected values.\n",
        "\n",
        "        Returns\n",
        "        ----------\n",
        "        metrics : dict\n",
        "            Computed metrics.\n",
        "        \"\"\"\n",
        "        data = {}\n",
        "        for k, v in self._data.items():\n",
        "            data[k] = np.concatenate(v)\n",
        "\n",
        "        results = concordance_index(\n",
        "            data[\"label_time\"],\n",
        "            data[\"prediction\"],\n",
        "            data[\"label_event\"] == 1,)\n",
        "\n",
        "        result_data = {}\n",
        "        names = \"cindex\"\n",
        "        result_data[names] = 1-results\n",
        "\n",
        "        return result_data"
      ],
      "execution_count": null,
      "outputs": []
    },
    {
      "cell_type": "markdown",
      "metadata": {
        "id": "kSZpFG5KBy1y"
      },
      "source": [
        "### **Training of Survival Convolutional Neural Network**"
      ]
    },
    {
      "cell_type": "code",
      "metadata": {
        "id": "N8l_D2814jsN"
      },
      "source": [
        "import tensorflow.compat.v2.summary as summary\n",
        "from tensorflow.python.ops import summary_ops_v2\n",
        "\n",
        "\n",
        "class TrainAndEvaluateModel:\n",
        "\n",
        "    def __init__(self, model, model_dir, train_dataset, eval_dataset,\n",
        "                 learning_rate, num_epochs):\n",
        "        self.num_epochs = num_epochs\n",
        "        self.model_dir = model_dir\n",
        "\n",
        "        self.model = model\n",
        "\n",
        "        self.train_ds = train_dataset\n",
        "\n",
        "        self.val_ds = eval_dataset\n",
        "\n",
        "        self.optimizer = tf.keras.optimizers.Adam(learning_rate=learning_rate)\n",
        "        self.loss_fn = CoxPHLoss()\n",
        "\n",
        "        self.train_loss_metric = tf.keras.metrics.Mean(name=\"train_loss\")\n",
        "        self.val_loss_metric = tf.keras.metrics.Mean(name=\"val_loss\")\n",
        "        self.val_cindex_metric = CindexMetric()\n",
        "\n",
        "    @tf.function\n",
        "    def train_one_step(self, x, y_event, y_riskset):\n",
        "        y_event = tf.expand_dims(y_event, axis=1)\n",
        "        with tf.GradientTape() as tape:\n",
        "            logits = self.model(x, training=True)\n",
        "\n",
        "            train_loss = self.loss_fn(y_true=[y_event, y_riskset], y_pred=logits)\n",
        "\n",
        "        with tf.name_scope(\"gradients\"):\n",
        "            grads = tape.gradient(train_loss, self.model.trainable_weights)\n",
        "            self.optimizer.apply_gradients(zip(grads, self.model.trainable_weights))\n",
        "        return train_loss, logits\n",
        "\n",
        "    def train_and_evaluate(self):\n",
        "        ckpt = tf.train.Checkpoint(\n",
        "            step=tf.Variable(0, dtype=tf.int64),\n",
        "            optimizer=self.optimizer,\n",
        "            model=self.model)\n",
        "        ckpt_manager = tf.train.CheckpointManager(\n",
        "            ckpt, str(self.model_dir), max_to_keep=2)\n",
        "\n",
        "        if ckpt_manager.latest_checkpoint:\n",
        "            ckpt.restore(ckpt_manager.latest_checkpoint)\n",
        "            print(f\"Latest checkpoint restored from {ckpt_manager.latest_checkpoint}.\")\n",
        "\n",
        "        train_summary_writer = summary.create_file_writer(\n",
        "            str(self.model_dir / \"train\"))\n",
        "        val_summary_writer = summary.create_file_writer(\n",
        "            str(self.model_dir / \"valid\"))\n",
        "\n",
        "        for epoch in range(self.num_epochs):\n",
        "            with train_summary_writer.as_default():\n",
        "                self.train_one_epoch(ckpt.step)\n",
        "\n",
        "            # Run a validation loop at the end of each epoch.\n",
        "            with val_summary_writer.as_default():\n",
        "                self.evaluate(ckpt.step)\n",
        "\n",
        "        save_path = ckpt_manager.save()\n",
        "        print(f\"Saved checkpoint for step {ckpt.step.numpy()}: {save_path}\")\n",
        "\n",
        "    def train_one_epoch(self, step_counter):\n",
        "        for x, y in self.train_ds:\n",
        "            x = tf.image.random_brightness(x,0.2)\n",
        "            #x = tf.image.random_contrast(x, 0.2, 0.5)\n",
        "            train_loss, logits = self.train_one_step(\n",
        "                x, y[\"label_event\"], y[\"label_riskset\"])\n",
        "\n",
        "            step = int(step_counter)\n",
        "\n",
        "            # Update training metric.\n",
        "            self.train_loss_metric.update_state(train_loss)\n",
        "\n",
        "            # Log every 200 batches.\n",
        "            if step % 5 == 0:\n",
        "                # Display metrics\n",
        "                mean_loss = self.train_loss_metric.result()\n",
        "                print(f\"step {step}: mean loss = {mean_loss:.4f}\")\n",
        "                # save summaries\n",
        "                summary.scalar(\"loss\", mean_loss, step=step_counter)\n",
        "                # Reset training metrics\n",
        "                self.train_loss_metric.reset_states()\n",
        "\n",
        "            step_counter.assign_add(1)\n",
        "\n",
        "    @tf.function\n",
        "    def evaluate_one_step(self, x, y_event, y_riskset):\n",
        "        y_event = tf.expand_dims(y_event, axis=1)\n",
        "        val_logits = self.model(x, training=False)\n",
        "        val_loss = self.loss_fn(y_true=[y_event, y_riskset], y_pred=val_logits)\n",
        "        return val_loss, val_logits\n",
        "\n",
        "    def evaluate(self, step_counter):\n",
        "        self.val_cindex_metric.reset_states()\n",
        "        \n",
        "        for x_val, y_val in self.val_ds:\n",
        "            val_loss, val_logits = self.evaluate_one_step(\n",
        "                x_val, y_val[\"label_event\"], y_val[\"label_riskset\"])\n",
        "\n",
        "            # Update val metrics\n",
        "            self.val_loss_metric.update_state(val_loss)\n",
        "            self.val_cindex_metric.update_state(y_val, val_logits)\n",
        "\n",
        "        val_loss = self.val_loss_metric.result()\n",
        "        summary.scalar(\"loss\",\n",
        "                       val_loss,\n",
        "                       step=step_counter)\n",
        "        self.val_loss_metric.reset_states()\n",
        "        \n",
        "        val_cindex = self.val_cindex_metric.result()\n",
        "        for key, value in val_cindex.items():\n",
        "          summary.scalar(key, value, step=step_counter)\n",
        "\n",
        "        print(f\"Validation: loss = {val_loss:.4f}, cindex = {val_cindex['cindex']:.4f}\")"
      ],
      "execution_count": null,
      "outputs": []
    },
    {
      "cell_type": "markdown",
      "metadata": {
        "id": "pvQkCc0rCQMg"
      },
      "source": [
        "### **Architecture of the Survival Convolutional Neural Network**"
      ]
    },
    {
      "cell_type": "markdown",
      "metadata": {
        "id": "4tmltTgDZFWP"
      },
      "source": [
        "The architecture of the CNN is similar to the one using 3D CT scan, but adapted to 2D images.\r\n",
        "\r\n",
        "- The size of the CT scans (grayscale image) is 92x92. They are normalized by batch before being fed to the network.\r\n",
        "- Two convolutional layers using a 3x3 kernel size, stride 1, padding='valid', and a ReLu activation function, followed by a batch normalization and a max pooling layer with a pool size of 2, dividing the spatial dimension with a size of 2.\r\n",
        "- Fully connected network, composed of two hidden dense layers and a dense output layer. A batch normalization is applied on the output of the two hidden dense layers. The final dense layer output the predictions (risk score). A dropout layer with a dropout rate of 20% is added to reduce overfitting.\r\n",
        "\r\n",
        "*Note: the CNN using the 2D CT scans tend to overfit more quickly than the CNN using 3D CT scans."
      ]
    },
    {
      "cell_type": "code",
      "metadata": {
        "id": "0zMS7Cn7dD3b"
      },
      "source": [
        "from tensorflow import keras\n",
        "from tensorflow.keras import layers\n",
        "\n",
        "model = tf.keras.Sequential([\n",
        "                             \n",
        "    tf.keras.layers.BatchNormalization(),\n",
        "\n",
        "    tf.keras.layers.Conv2D(filters=16, kernel_size=(3,3), activation=\"relu\", use_bias=False),\n",
        "    tf.keras.layers.BatchNormalization(),\n",
        "    tf.keras.layers.MaxPooling2D(pool_size=(2,2)),\n",
        "    \n",
        "    tf.keras.layers.Conv2D(filters=32, kernel_size=(3,3), activation=\"relu\", use_bias=False),\n",
        "    tf.keras.layers.BatchNormalization(),\n",
        "    tf.keras.layers.MaxPooling2D(pool_size=(2,2)),\n",
        "    \n",
        "    tf.keras.layers.Flatten(),\n",
        "\n",
        "    tf.keras.layers.Dense(120, name='dense_1', activation=\"relu\", use_bias=False),\n",
        "    tf.keras.layers.BatchNormalization(),\n",
        "    tf.keras.layers.Dense(84, name='dense_2', activation=\"relu\", use_bias=False),\n",
        "    tf.keras.layers.BatchNormalization(),\n",
        "    tf.keras.layers.Dropout(rate=0.20),\n",
        "    \n",
        "    tf.keras.layers.Dense(1, activation='linear', name='dense_3')\n",
        "])"
      ],
      "execution_count": null,
      "outputs": []
    },
    {
      "cell_type": "markdown",
      "metadata": {
        "id": "5CeVeO7lZ65J"
      },
      "source": [
        "*Note: below some of the changes I tried to improve the results\r\n",
        "\r\n",
        "- Additional CONV2D and Dense layers\r\n",
        "- Additional filters in the CONV2D layers\r\n",
        "- Batch normalization layers before the activation function\r\n",
        "- Different regularization techniques to reduce the overfitting:\r\n",
        "    - Dropout at higher rates\r\n",
        "    - Dropout layers before every CONV2D layers\r\n",
        "    - L1/L2 regularization\r\n",
        "\r\n",
        "I did not get better results than with the CNN using 3D CT scans."
      ]
    },
    {
      "cell_type": "code",
      "metadata": {
        "id": "-NNXtpha4oXJ"
      },
      "source": [
        "train_fn = InputFunction(x_train, time_train, event_train, batch_size=20, shuffle=True, drop_last=True)\n",
        "\n",
        "eval_fn = InputFunction(x_test, time_test, event_test)\n",
        "\n",
        "trainer = TrainAndEvaluateModel(\n",
        "    model=model,\n",
        "    model_dir=Path(\"ckpts-mnist-cnn\"),\n",
        "    train_dataset=train_fn(),\n",
        "    eval_dataset=eval_fn(),\n",
        "    learning_rate=0.01,\n",
        "    num_epochs=20,\n",
        ")"
      ],
      "execution_count": null,
      "outputs": []
    },
    {
      "cell_type": "code",
      "metadata": {
        "id": "MqRzwt8p4p5y"
      },
      "source": [
        "trainer.train_and_evaluate()"
      ],
      "execution_count": null,
      "outputs": []
    },
    {
      "cell_type": "markdown",
      "metadata": {
        "id": "ThjBiR6CaZOb"
      },
      "source": [
        "## **Results**"
      ]
    },
    {
      "cell_type": "markdown",
      "metadata": {
        "id": "9B6P8OspagSR"
      },
      "source": [
        "### **Predicted Risk Score**"
      ]
    },
    {
      "cell_type": "code",
      "metadata": {
        "id": "82X-XAUy9nDY"
      },
      "source": [
        "from lifelines import CoxPHFitter\n",
        "cph = CoxPHFitter(alpha=0.05)\n",
        "\n",
        "class Predictor:\n",
        "\n",
        "    def __init__(self, model, model_dir):\n",
        "        self.model = model\n",
        "        self.model_dir = model_dir\n",
        "\n",
        "    def predict(self, dataset):\n",
        "        ckpt = tf.train.Checkpoint(\n",
        "            step=tf.Variable(0, dtype=tf.int64),\n",
        "            optimizer=tf.keras.optimizers.Adam(),\n",
        "            model=self.model)\n",
        "        ckpt_manager = tf.train.CheckpointManager(\n",
        "            ckpt, str(self.model_dir), max_to_keep=2)\n",
        "\n",
        "        if ckpt_manager.latest_checkpoint:\n",
        "            ckpt.restore(ckpt_manager.latest_checkpoint).expect_partial()\n",
        "            print(f\"Latest checkpoint restored from {ckpt_manager.latest_checkpoint}.\")\n",
        "\n",
        "        risk_scores = []\n",
        "        for batch in dataset:\n",
        "            pred = self.model(batch, training=False)\n",
        "            risk_scores.append(pred.numpy())\n",
        "\n",
        "        return np.row_stack(risk_scores)"
      ],
      "execution_count": null,
      "outputs": []
    },
    {
      "cell_type": "markdown",
      "metadata": {
        "id": "HCZBzp6gHN44"
      },
      "source": [
        "**On Train Data**"
      ]
    },
    {
      "cell_type": "code",
      "metadata": {
        "id": "FX7AHz1o9qcI"
      },
      "source": [
        "train_pred_fn = tf.data.Dataset.from_tensor_slices(x_train[..., np.newaxis]).batch(20)\n",
        "\n",
        "predictor = Predictor(model, trainer.model_dir)"
      ],
      "execution_count": null,
      "outputs": []
    },
    {
      "cell_type": "code",
      "metadata": {
        "id": "qi3OI_8V934n"
      },
      "source": [
        "# Predicted risk score of train data\n",
        "train_predictions = predictor.predict(train_pred_fn)\n",
        "\n",
        "risk_score_train=pd.DataFrame(train_predictions)\n",
        "risk_score_train['time_train']=time_train\n",
        "risk_score_train['event_train']=event_train\n",
        "risk_score_train=risk_score_train.rename(columns={0:'risk_score'})\n",
        "risk_score_train.head()"
      ],
      "execution_count": null,
      "outputs": []
    },
    {
      "cell_type": "markdown",
      "metadata": {
        "id": "PeVBJBgLuGvr"
      },
      "source": [
        "**On Validation Data**"
      ]
    },
    {
      "cell_type": "code",
      "metadata": {
        "id": "nFs36BiLH_F6"
      },
      "source": [
        "#Predicted risk score of validation data\r\n",
        "sample_pred_ds = tf.data.Dataset.from_tensor_slices(x_test[..., np.newaxis]).batch(20)\r\n",
        "sample_predictions = predictor.predict(sample_pred_ds)\r\n",
        "\r\n",
        "risk_score_val=pd.DataFrame(sample_predictions)\r\n",
        "risk_score_val['time_test']=time_test\r\n",
        "risk_score_val['event_test']=event_test\r\n",
        "risk_score_val=risk_score_val.rename(columns={0:'risk_score'})\r\n",
        "risk_score_val.head()"
      ],
      "execution_count": null,
      "outputs": []
    }
  ]
}